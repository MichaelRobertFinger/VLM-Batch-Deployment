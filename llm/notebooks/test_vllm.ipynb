{
 "cells": [
  {
   "cell_type": "code",
   "execution_count": 1,
   "metadata": {},
   "outputs": [
    {
     "name": "stderr",
     "output_type": "stream",
     "text": [
      "/teamspace/studios/this_studio/demo-ai-data-eng/llm/.venv/lib/python3.12/site-packages/tqdm/auto.py:21: TqdmWarning: IProgress not found. Please update jupyter and ipywidgets. See https://ipywidgets.readthedocs.io/en/stable/user_install.html\n",
      "  from .autonotebook import tqdm as notebook_tqdm\n"
     ]
    },
    {
     "name": "stdout",
     "output_type": "stream",
     "text": [
      "INFO 04-09 14:55:00 [__init__.py:239] Automatically detected platform cuda.\n"
     ]
    },
    {
     "name": "stderr",
     "output_type": "stream",
     "text": [
      "2025-04-09 14:55:03,078\tINFO util.py:154 -- Missing packages: ['ipywidgets']. Run `pip install -U ipywidgets`, then restart the notebook server for rich notebook output.\n"
     ]
    },
    {
     "name": "stdout",
     "output_type": "stream",
     "text": [
      "INFO 04-09 14:55:14 [config.py:600] This model supports multiple tasks: {'generate', 'embed', 'classify', 'score', 'reward'}. Defaulting to 'generate'.\n",
      "INFO 04-09 14:55:14 [config.py:1780] Chunked prefill is enabled with max_num_batched_tokens=8192.\n",
      "INFO 04-09 14:55:16 [core.py:61] Initializing a V1 LLM engine (v0.8.3) with config: model='Qwen/Qwen2.5-VL-3B-Instruct', speculative_config=None, tokenizer='Qwen/Qwen2.5-VL-3B-Instruct', skip_tokenizer_init=False, tokenizer_mode=auto, revision=None, override_neuron_config=None, tokenizer_revision=None, trust_remote_code=False, dtype=torch.bfloat16, max_seq_len=4096, download_dir=None, load_format=LoadFormat.AUTO, tensor_parallel_size=1, pipeline_parallel_size=1, disable_custom_all_reduce=False, quantization=None, enforce_eager=False, kv_cache_dtype=auto,  device_config=cuda, decoding_config=DecodingConfig(guided_decoding_backend='xgrammar', reasoning_backend=None), observability_config=ObservabilityConfig(show_hidden_metrics=False, otlp_traces_endpoint=None, collect_model_forward_time=False, collect_model_execute_time=False), seed=None, served_model_name=Qwen/Qwen2.5-VL-3B-Instruct, num_scheduler_steps=1, multi_step_stream_outputs=True, enable_prefix_caching=True, chunked_prefill_enabled=True, use_async_output_proc=True, disable_mm_preprocessor_cache=True, mm_processor_kwargs={'min_pixels': 784, 'max_pixels': 1003520}, pooler_config=None, compilation_config={\"level\":3,\"custom_ops\":[\"none\"],\"splitting_ops\":[\"vllm.unified_attention\",\"vllm.unified_attention_with_output\"],\"use_inductor\":true,\"compile_sizes\":[],\"use_cudagraph\":true,\"cudagraph_num_of_warmups\":1,\"cudagraph_capture_sizes\":[512,504,496,488,480,472,464,456,448,440,432,424,416,408,400,392,384,376,368,360,352,344,336,328,320,312,304,296,288,280,272,264,256,248,240,232,224,216,208,200,192,184,176,168,160,152,144,136,128,120,112,104,96,88,80,72,64,56,48,40,32,24,16,8,4,2,1],\"max_capture_size\":512}\n",
      "WARNING 04-09 14:55:18 [utils.py:2413] Methods determine_num_available_blocks,device_config,get_cache_block_size_bytes,initialize_cache not implemented in <vllm.v1.worker.gpu_worker.Worker object at 0x73cc34f42060>\n",
      "INFO 04-09 14:55:18 [parallel_state.py:957] rank 0 in world size 1 is assigned as DP rank 0, PP rank 0, TP rank 0\n",
      "INFO 04-09 14:55:18 [cuda.py:221] Using Flash Attention backend on V1 engine.\n"
     ]
    },
    {
     "name": "stderr",
     "output_type": "stream",
     "text": [
      "Using a slow image processor as `use_fast` is unset and a slow processor was saved with this model. `use_fast=True` will be the default behavior in v4.52, even if the model was saved with a slow processor. This will result in minor differences in outputs. You'll still be able to use a slow processor with `use_fast=False`.\n"
     ]
    },
    {
     "name": "stdout",
     "output_type": "stream",
     "text": [
      "INFO 04-09 14:55:19 [gpu_model_runner.py:1258] Starting to load model Qwen/Qwen2.5-VL-3B-Instruct...\n",
      "WARNING 04-09 14:55:19 [vision.py:101] Current `vllm-flash-attn` has a bug inside vision module, so we use xformers backend instead. You can run `pip install flash-attn` to use flash-attention backend.\n",
      "INFO 04-09 14:55:19 [config.py:3334] cudagraph sizes specified by model runner [1, 2, 4, 8, 16, 24, 32, 40, 48, 56, 64, 72, 80, 88, 96, 104, 112, 120, 128, 136, 144, 152, 160, 168, 176, 184, 192, 200, 208, 216, 224, 232, 240, 248, 256, 264, 272, 280, 288, 296, 304, 312, 320, 328, 336, 344, 352, 360, 368, 376, 384, 392, 400, 408, 416, 424, 432, 440, 448, 456, 464, 472, 480, 488, 496, 504, 512] is overridden by config [512, 384, 256, 128, 4, 2, 1, 392, 264, 136, 8, 400, 272, 144, 16, 408, 280, 152, 24, 416, 288, 160, 32, 424, 296, 168, 40, 432, 304, 176, 48, 440, 312, 184, 56, 448, 320, 192, 64, 456, 328, 200, 72, 464, 336, 208, 80, 472, 344, 216, 88, 120, 480, 352, 248, 224, 96, 488, 504, 360, 232, 104, 496, 368, 240, 112, 376]\n",
      "WARNING 04-09 14:55:20 [topk_topp_sampler.py:69] FlashInfer is not available. Falling back to the PyTorch-native implementation of top-p & top-k sampling. For the best performance, please install FlashInfer.\n",
      "INFO 04-09 14:55:20 [weight_utils.py:265] Using model weights format ['*.safetensors']\n"
     ]
    },
    {
     "name": "stderr",
     "output_type": "stream",
     "text": [
      "Loading safetensors checkpoint shards:   0% Completed | 0/2 [00:00<?, ?it/s]\n",
      "Loading safetensors checkpoint shards:  50% Completed | 1/2 [00:01<00:01,  1.18s/it]\n",
      "Loading safetensors checkpoint shards: 100% Completed | 2/2 [00:02<00:00,  1.20s/it]\n",
      "Loading safetensors checkpoint shards: 100% Completed | 2/2 [00:02<00:00,  1.20s/it]\n",
      "\n"
     ]
    },
    {
     "name": "stdout",
     "output_type": "stream",
     "text": [
      "INFO 04-09 14:55:23 [loader.py:447] Loading weights took 2.51 seconds\n",
      "INFO 04-09 14:55:23 [gpu_model_runner.py:1273] Model loading took 7.1557 GiB and 3.514083 seconds\n",
      "INFO 04-09 14:55:23 [gpu_model_runner.py:1542] Encoder cache will be initialized with a budget of 8192 tokens, and profiled with 2 video items of the maximum feature size.\n",
      "INFO 04-09 14:55:54 [backends.py:416] Using cache directory: /home/zeus/.cache/vllm/torch_compile_cache/703ef19df1/rank_0_0 for vLLM's torch.compile\n",
      "INFO 04-09 14:55:54 [backends.py:426] Dynamo bytecode transform time: 17.79 s\n",
      "INFO 04-09 14:55:55 [backends.py:115] Directly load the compiled graph for shape None from the cache\n",
      "INFO 04-09 14:56:08 [monitor.py:33] torch.compile takes 17.79 s in total\n",
      "INFO 04-09 14:56:10 [kv_cache_utils.py:578] GPU KV cache size: 269,040 tokens\n",
      "INFO 04-09 14:56:10 [kv_cache_utils.py:581] Maximum concurrency for 4,096 tokens per request: 65.68x\n",
      "INFO 04-09 14:56:41 [gpu_model_runner.py:1608] Graph capturing finished in 31 secs, took 1.91 GiB\n",
      "INFO 04-09 14:56:41 [core.py:162] init engine (profile, create kv cache, warmup model) took 77.78 seconds\n"
     ]
    }
   ],
   "source": [
    "from PIL import Image\n",
    "\n",
    "from vllm import LLM\n",
    " \n",
    "from llm.settings import DOCUMENTS_DIR, MODEL_NAME\n",
    "\n",
    "images = [Image.open(DOCUMENTS_DIR / \"image_0.jpeg\").convert(\"RGB\")]\n",
    "\n",
    "llm = LLM(\n",
    "    model=MODEL_NAME,\n",
    "    gpu_memory_utilization=0.9,\n",
    "    max_num_seqs=2,\n",
    "    max_model_len=4096,\n",
    "    mm_processor_kwargs={\n",
    "        \"min_pixels\": 28 * 28,\n",
    "        \"max_pixels\": 1280 * 28 * 28\n",
    "    },\n",
    "    disable_mm_preprocessor_cache=True,\n",
    ")\n"
   ]
  },
  {
   "cell_type": "code",
   "execution_count": 2,
   "metadata": {},
   "outputs": [
    {
     "name": "stdout",
     "output_type": "stream",
     "text": [
      "<|im_start|>system\n",
      "You are a helpful assistant.<|im_end|>\n",
      "<|im_start|>user\n",
      "<|vision_start|><|image_pad|><|vision_end|>Extract the data from this invoice.\n",
      "Return your response as a valid JSON object.\n",
      "Here's an example of the expected JSON output: \n",
      "\n",
      "{\n",
      "    \"invoiced_date\": 09/04/2025  #format DD/MM/YYYY\n",
      "    \"due_date\": 09/04/2025  #format DD/MM/YYYY\n",
      "    \"from_info\": {\n",
      "        \"email\": \"jeremya@gmail.com\",\n",
      "        \"phone_number\": \"+33645789564\",\n",
      "        \"address\": {\n",
      "            \"street\": \"Chemin des boulangers\",\n",
      "            \"city\": \"Bourges\",\n",
      "            \"country\": FR # 2 letters country\n",
      "        },\n",
      "    \"to_info\": {\n",
      "        \"email\": \"igordosgor@gmail.com\",\n",
      "        \"phone_number\": \"+33645789564\",\n",
      "        \"address\": {\n",
      "            \"street\": \"Chemin des boulangers\",\n",
      "            \"city\": \"New York\",\n",
      "            \"country\": US\n",
      "        },\n",
      "    }\n",
      "    \"amount\": {\n",
      "        \"sub_total\": 1450.4 # Before taxes\n",
      "        \"total\": 1,740.48 # After taxes\n",
      "        \"vat\": 0.2 # Pourcentage\n",
      "        \"currency\": USD # 3 letters code (USD, EUR, ...)\n",
      "    }\n",
      "}<|im_end|>\n",
      "<|im_start|>assistant\n",
      "\n"
     ]
    }
   ],
   "source": [
    "from vllm import SamplingParams\n",
    "from vllm.sampling_params import GuidedDecodingParams\n",
    "\n",
    "from llm.prompts import QWEN_25_VL_7B_INSTRUCT_PROMPT, INSTRUCTION\n",
    "from llm.schemas import Invoice\n",
    "\n",
    "json_schema = Invoice.model_json_schema()\n",
    "\n",
    "guided_decoding_params = GuidedDecodingParams(json=json_schema)\n",
    "sampling_params = SamplingParams(\n",
    "    guided_decoding=guided_decoding_params,\n",
    "    max_tokens=2048,\n",
    "    temperature=0.2,\n",
    "    stop=[\"<|im_end|>\"]\n",
    ")\n",
    "\n",
    "# formatted_prompt = QWEN_25_VL_7B_INSTRUCT_PROMPT.format(instruction=INSTRUCTION)\n",
    "formatted_prompt = (\n",
    "    \"<|im_start|>system\\nYou are a helpful assistant.<|im_end|>\\n\"\n",
    "    f\"<|im_start|>user\\n<|vision_start|><|image_pad|><|vision_end|>\"\n",
    "    f\"{INSTRUCTION}<|im_end|>\\n\"\n",
    "    \"<|im_start|>assistant\\n\"\n",
    ")\n",
    "\n",
    "print(formatted_prompt)\n",
    "\n",
    "inputs = [\n",
    "    {\n",
    "        \"prompt\": formatted_prompt,\n",
    "        \"multi_modal_data\": {\"image\": image},\n",
    "    }\n",
    "    for image in images\n",
    "]"
   ]
  },
  {
   "cell_type": "code",
   "execution_count": 4,
   "metadata": {},
   "outputs": [
    {
     "name": "stderr",
     "output_type": "stream",
     "text": [
      "Processed prompts:   0%|          | 0/1 [00:00<?, ?it/s, est. speed input: 0.00 toks/s, output: 0.00 toks/s]"
     ]
    },
    {
     "name": "stderr",
     "output_type": "stream",
     "text": [
      "Processed prompts: 100%|██████████| 1/1 [00:05<00:00,  5.92s/it, est. speed input: 158.91 toks/s, output: 34.96 toks/s]\n"
     ]
    },
    {
     "data": {
      "text/plain": [
       "'{\\n    \"invoiced_date\": \"24-May-2020\",\\n    \"due_date\": \"\",\\n    \"from_info\": {\\n        \"email\": \"barton@example.net\",\\n        \"phone_number\": \"+98980846146\",\\n        \"addess\": {\\n            \"street\": \"1954 Wilson Mall\",\\n            \"city\": \"Turnerside\",\\n            \"country\": \"MH 21563 US\"\\n        }\\n    },\\n    \"to_info\": {\\n        \"email\": \"carmenreeves@example.net\",\\n        \"phone_number\": \"\",\\n        \"addess\": {\\n            \"street\": \"\",\\n            \"city\": \"\",\\n            \"country\": \"\"\\n        }\\n    },\\n    \"amount\": {\\n        \"sub_total\": 1132.97,\\n        \"total\": 1139.38,\\n        \"vat\": 0.359,\\n        \"currency\": \"$\"\\n    }\\n}'"
      ]
     },
     "execution_count": 4,
     "metadata": {},
     "output_type": "execute_result"
    }
   ],
   "source": [
    "outputs = llm.generate(inputs, sampling_params=sampling_params)\n",
    "outputs[0].outputs[0].text"
   ]
  }
 ],
 "metadata": {
  "language_info": {
   "name": "python"
  }
 },
 "nbformat": 4,
 "nbformat_minor": 2
}
